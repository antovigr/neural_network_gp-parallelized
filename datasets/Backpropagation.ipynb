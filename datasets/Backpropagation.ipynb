{
 "cells": [
  {
   "cell_type": "markdown",
   "metadata": {},
   "source": [
    "# Simple network of two hidden dense layers\n",
    "\n",
    "## Stochastic gradient descent / online learning"
   ]
  },
  {
   "cell_type": "markdown",
   "metadata": {},
   "source": [
    "Retropropagation \n",
    "- en utilisant une boucle explicite\n",
    "- en mettant à jour après chaque observation (online learning / stochastic gradient descent)"
   ]
  },
  {
   "cell_type": "markdown",
   "metadata": {},
   "source": [
    "Architecture\n",
    "\n",
    "    input (layer0) : 2 variables\n",
    "    layer 1: 3 neurons (sigmoid)\n",
    "    layer 2: 5 neurons (sigmoid)\n",
    "    layer 3 (output) : single neuron (sigmoid)"
   ]
  },
  {
   "cell_type": "markdown",
   "metadata": {},
   "source": [
    "    L0  L1   L2   L3\n",
    "    \n",
    "    x1    /  o \n",
    "      \\ o    o  \\\n",
    "        o    o    o ->\n",
    "      / o    o  /\n",
    "    x2    \\  o\n",
    "    \n",
    "    "
   ]
  },
  {
   "cell_type": "markdown",
   "metadata": {},
   "source": [
    "$W_1 \\in M_{3,2}$\n",
    "\n",
    "$W_2 \\in M_{5,3}$\n",
    "\n",
    "$W_3 \\in M_{1, 5}$\n",
    "\n",
    "\n",
    "\n",
    "\n"
   ]
  },
  {
   "cell_type": "code",
   "execution_count": 202,
   "metadata": {},
   "outputs": [],
   "source": [
    "from time import time\n",
    "\n",
    "import matplotlib.pyplot as plt\n",
    "import numpy as np\n",
    "from numpy.random import randn\n",
    "from sklearn.datasets import make_moons"
   ]
  },
  {
   "cell_type": "markdown",
   "metadata": {},
   "source": [
    "### Dataset"
   ]
  },
  {
   "cell_type": "code",
   "execution_count": 203,
   "metadata": {},
   "outputs": [
    {
     "data": {
      "text/plain": [
       "((20, 2), (20,))"
      ]
     },
     "execution_count": 203,
     "metadata": {},
     "output_type": "execute_result"
    }
   ],
   "source": [
    "X, y = make_moons(n_samples=20, noise=0.05, random_state=12345)  # not too hard\n",
    "\n",
    "X.shape, y.shape"
   ]
  },
  {
   "cell_type": "code",
   "execution_count": 204,
   "metadata": {},
   "outputs": [
    {
     "data": {
      "image/png": "[encoded data removed]",
      "text/plain": [
       "<Figure size 640x480 with 2 Axes>"
      ]
     },
     "metadata": {},
     "output_type": "display_data"
    }
   ],
   "source": [
    "plt.scatter(X[:, 0], X[:, 1], c=y, cmap=\"copper_r\")\n",
    "plt.colorbar()\n",
    "plt.show()"
   ]
  },
  {
   "cell_type": "markdown",
   "metadata": {},
   "source": [
    "## Network construction / initialisation\n"
   ]
  },
  {
   "cell_type": "code",
   "execution_count": 205,
   "metadata": {},
   "outputs": [],
   "source": [
    "# random init for weights\n",
    "np.random.seed(124)\n",
    "\n",
    "\n",
    "# Weights matrix: one line per neuron, one column per neuron in the previous layer\n",
    "W1 = randn(3, 2)\n",
    "# Column vector of bias (compatible with forward pass formula)\n",
    "b1 = randn(3, 1)\n",
    "\n",
    "W2 = randn(5, 3)\n",
    "b2 = randn(5, 1)\n",
    "\n",
    "W3 = randn(1, 5)\n",
    "b3 = randn(1, 1)  # not a scalar (!) but 1x1 matrix"
   ]
  },
  {
   "cell_type": "code",
   "execution_count": 206,
   "metadata": {},
   "outputs": [
    {
     "data": {
      "text/plain": [
       "array([[ 0.28847906, -0.46295408],\n",
       "       [-1.33800442,  2.31701567],\n",
       "       [-1.46737593, -0.74854769]])"
      ]
     },
     "execution_count": 206,
     "metadata": {},
     "output_type": "execute_result"
    }
   ],
   "source": [
    "W1"
   ]
  },
  {
   "cell_type": "code",
   "execution_count": 207,
   "metadata": {},
   "outputs": [],
   "source": [
    "# fonction d'activation\n",
    "\n",
    "\n",
    "def sigma(x):\n",
    "    return 1 / (1 + np.exp(-x))\n",
    "\n",
    "\n",
    "def sigprim(x):\n",
    "    return sigma(x) * (1 - sigma(x))"
   ]
  },
  {
   "cell_type": "markdown",
   "metadata": {},
   "source": [
    "## Forward pass for *one* training instance"
   ]
  },
  {
   "cell_type": "code",
   "execution_count": 208,
   "metadata": {},
   "outputs": [
    {
     "name": "stdout",
     "output_type": "stream",
     "text": [
      "a0.shape =(2, 1)\n",
      "a0 =array([[ 0.48401714],\n",
      "       [-0.3972736 ]])\n"
     ]
    }
   ],
   "source": [
    "# We will process just the first training example\n",
    "# To use the same notation as on paper, we put it in a 2D column vector\n",
    "# Activations of the input layer:\n",
    "\n",
    "\n",
    "ind0 = 0  # whatever\n",
    "X_one_training = X[ind0, :]\n",
    "y_one_training = np.array(y[ind0]).reshape(\n",
    "    [\n",
    "        1,\n",
    "    ]\n",
    ")\n",
    "\n",
    "a0 = X_one_training.reshape(\n",
    "    [2, 1]\n",
    ")  # image of activation function, one observed values in the first layer\n",
    "\n",
    "print(f\"{a0.shape =}\\n{a0 =}\")"
   ]
  },
  {
   "cell_type": "code",
   "execution_count": 209,
   "metadata": {},
   "outputs": [
    {
     "data": {
      "text/plain": [
       "(3, 1)"
      ]
     },
     "execution_count": 209,
     "metadata": {},
     "output_type": "execute_result"
    }
   ],
   "source": [
    "# First forward pass\n",
    "z1 = W1 @ a0 + b1\n",
    "a1 = sigma(z1)\n",
    "a1.shape"
   ]
  },
  {
   "cell_type": "code",
   "execution_count": 210,
   "metadata": {},
   "outputs": [
    {
     "data": {
      "text/plain": [
       "(5, 1)"
      ]
     },
     "execution_count": 210,
     "metadata": {},
     "output_type": "execute_result"
    }
   ],
   "source": [
    "# second layer\n",
    "z2 = W2 @ a1 + b2\n",
    "a2 = sigma(z2)\n",
    "a2.shape"
   ]
  },
  {
   "cell_type": "code",
   "execution_count": 211,
   "metadata": {},
   "outputs": [
    {
     "data": {
      "text/plain": [
       "(1, 1)"
      ]
     },
     "execution_count": 211,
     "metadata": {},
     "output_type": "execute_result"
    }
   ],
   "source": [
    "# third layer\n",
    "z3 = W3 @ a2 + b3\n",
    "a3 = sigma(z3)\n",
    "a3.shape"
   ]
  },
  {
   "cell_type": "code",
   "execution_count": 212,
   "metadata": {},
   "outputs": [
    {
     "name": "stdout",
     "output_type": "stream",
     "text": [
      "y_pred =[0]\n",
      "y_one_training =array([1])\n"
     ]
    }
   ],
   "source": [
    "y_pred = [1 if predict_proba > 0.5 else 0 for predict_proba in a3]\n",
    "print(f\"{y_pred =}\\n{y_one_training =}\")"
   ]
  },
  {
   "cell_type": "markdown",
   "metadata": {},
   "source": [
    "\n",
    "## Backpropagation for one training instance"
   ]
  },
  {
   "cell_type": "markdown",
   "metadata": {},
   "source": [
    "Error (shift, correction?) in the output layer [**BP1**]\n",
    "\n",
    "$\\displaystyle \\delta_j^L = \\frac{\\partial C}{\\partial a_j^L} \\sigma'(z_j^L)$ \n",
    "\n",
    "\n",
    "\n",
    "(only one neuron here, so $j$ index might be omitted)"
   ]
  },
  {
   "cell_type": "code",
   "execution_count": 213,
   "metadata": {},
   "outputs": [
    {
     "name": "stdout",
     "output_type": "stream",
     "text": [
      "delta3 = array([[-0.12068905]])\n",
      "delta3.shape =(1, 1)\n"
     ]
    }
   ],
   "source": [
    "# un seul neurone et une seule observation (ind0)\n",
    "# etape 1\n",
    "delta3 = (a3 - y_one_training) * sigprim(z3)\n",
    "print(f\"{delta3 = }\\n{delta3.shape =}\")"
   ]
  },
  {
   "cell_type": "markdown",
   "metadata": {},
   "source": [
    "Backpropagate the error [**BP2**]\n",
    "\n",
    "$\\displaystyle \\delta^l = ((w^{l+1})^T)\\delta^{l+1} \\odot \\sigma'(z^{l})$"
   ]
  },
  {
   "cell_type": "code",
   "execution_count": 214,
   "metadata": {},
   "outputs": [
    {
     "name": "stdout",
     "output_type": "stream",
     "text": [
      "delta2 = array([[ 0.03233452],\n",
      "       [-0.01356514],\n",
      "       [ 0.01342836],\n",
      "       [-0.00326986],\n",
      "       [ 0.05845582]])\n",
      "delta2.shape =(5, 1)\n"
     ]
    }
   ],
   "source": [
    "delta2 = sigprim(z2) * (W3.T @ delta3)\n",
    "print(f\"{delta2 = }\\n{delta2.shape =}\")"
   ]
  },
  {
   "cell_type": "code",
   "execution_count": 215,
   "metadata": {},
   "outputs": [
    {
     "name": "stdout",
     "output_type": "stream",
     "text": [
      "delta1 = array([[ 0.01073452],\n",
      "       [-0.00197333],\n",
      "       [-0.00703027]])\n",
      "delta1.shape =(3, 1)\n"
     ]
    }
   ],
   "source": [
    "delta1 = sigprim(z1) * (W2.T @ delta2)\n",
    "print(f\"{delta1 = }\\n{delta1.shape =}\")"
   ]
  },
  {
   "cell_type": "markdown",
   "metadata": {},
   "source": [
    "The gradient for the biases [**BP3**]\n",
    "\n",
    "$\\displaystyle \\frac{\\partial C}{\\partial b_j^l} = \\delta_j^l$"
   ]
  },
  {
   "cell_type": "code",
   "execution_count": 216,
   "metadata": {},
   "outputs": [],
   "source": [
    "nabla_bias = [delta1, delta2, delta3]"
   ]
  },
  {
   "cell_type": "markdown",
   "metadata": {},
   "source": [
    "The gradient for weights **[BP4]**, mathematical formula\n",
    "\n",
    "$\\displaystyle \\frac{\\partial C}{\\partial w_{jk}^l} = a_k^{l-1}\\delta_j^l = \\delta_j^l a_k^{l-1} $\n"
   ]
  },
  {
   "cell_type": "code",
   "execution_count": 217,
   "metadata": {},
   "outputs": [
    {
     "name": "stderr",
     "output_type": "stream",
     "text": [
      "/tmp/ipykernel_71219/1041272380.py:5: DeprecationWarning: Conversion of an array with ndim > 0 to a scalar is deprecated, and will error in future. Ensure you extract a single element from your array before performing this operation. (Deprecated NumPy 1.25.)\n",
      "  nabla_W3[j, k] = a2[k] * delta3[j]\n"
     ]
    },
    {
     "data": {
      "text/plain": [
       "(1, 5)"
      ]
     },
     "execution_count": 217,
     "metadata": {},
     "output_type": "execute_result"
    }
   ],
   "source": [
    "nabla_W3 = np.zeros(W3.shape)\n",
    "\n",
    "for j in range(W3.shape[0]):\n",
    "    for k in range(W3.shape[1]):\n",
    "        nabla_W3[j, k] = a2[k] * delta3[j]\n",
    "\n",
    "\n",
    "nabla_W3.shape"
   ]
  },
  {
   "cell_type": "code",
   "execution_count": 218,
   "metadata": {},
   "outputs": [
    {
     "name": "stderr",
     "output_type": "stream",
     "text": [
      "/tmp/ipykernel_71219/3167569450.py:6: DeprecationWarning: Conversion of an array with ndim > 0 to a scalar is deprecated, and will error in future. Ensure you extract a single element from your array before performing this operation. (Deprecated NumPy 1.25.)\n",
      "  nabla_W2[j, k] = a1[k] * delta2[j]\n"
     ]
    },
    {
     "data": {
      "text/plain": [
       "(5, 3)"
      ]
     },
     "execution_count": 218,
     "metadata": {},
     "output_type": "execute_result"
    }
   ],
   "source": [
    "nabla_W2 = np.zeros(W2.shape)\n",
    "\n",
    "\n",
    "for j in range(W2.shape[0]):\n",
    "    for k in range(W2.shape[1]):\n",
    "        nabla_W2[j, k] = a1[k] * delta2[j]\n",
    "\n",
    "\n",
    "nabla_W2.shape"
   ]
  },
  {
   "cell_type": "code",
   "execution_count": 219,
   "metadata": {},
   "outputs": [
    {
     "name": "stderr",
     "output_type": "stream",
     "text": [
      "/tmp/ipykernel_71219/4221456966.py:4: DeprecationWarning: Conversion of an array with ndim > 0 to a scalar is deprecated, and will error in future. Ensure you extract a single element from your array before performing this operation. (Deprecated NumPy 1.25.)\n",
      "  nabla_W1[j, k] = a0[k] * delta1[j]\n"
     ]
    },
    {
     "data": {
      "text/plain": [
       "(3, 2)"
      ]
     },
     "execution_count": 219,
     "metadata": {},
     "output_type": "execute_result"
    }
   ],
   "source": [
    "nabla_W1 = np.zeros(W1.shape)\n",
    "for j in range(W1.shape[0]):\n",
    "    for k in range(W1.shape[1]):\n",
    "        nabla_W1[j, k] = a0[k] * delta1[j]\n",
    "nabla_W1.shape"
   ]
  },
  {
   "cell_type": "markdown",
   "metadata": {},
   "source": [
    "### Updating the network\n"
   ]
  },
  {
   "cell_type": "code",
   "execution_count": 220,
   "metadata": {},
   "outputs": [],
   "source": [
    "eta = 0.1\n",
    "\n",
    "b1 -= eta * nabla_bias[0]\n",
    "b2 -= eta * nabla_bias[1]\n",
    "b3 -= eta * nabla_bias[2]\n",
    "W1 -= eta * nabla_W1\n",
    "W2 -= eta * nabla_W2\n",
    "W3 -= eta * nabla_W3"
   ]
  },
  {
   "cell_type": "markdown",
   "metadata": {},
   "source": [
    "Cela termine un cycle (\"step\") de l'apprentissage on-line (i.e. on actualise les poids a chaque apprentissage sur une observation).  \n",
    "Pour faire une epoch complete, il faut parcourir toutes les observations"
   ]
  },
  {
   "cell_type": "markdown",
   "metadata": {},
   "source": [
    "## Putting it all together\n",
    "in a complete learning loop"
   ]
  },
  {
   "cell_type": "markdown",
   "metadata": {},
   "source": [
    "### Initialisation du reseau de neurones"
   ]
  },
  {
   "cell_type": "code",
   "execution_count": 221,
   "metadata": {},
   "outputs": [],
   "source": [
    "# INITIALISATION\n",
    "\n",
    "n_epochs = 1000\n",
    "n_individus = X.shape[0]\n",
    "eta = 0.1  # tx d'apprentissage\n",
    "\n",
    "\n",
    "nabla_W1 = np.zeros(W1.shape)  # gradient for the weights\n",
    "\n",
    "\n",
    "nabla_W2 = np.zeros(W2.shape)\n",
    "\n",
    "\n",
    "nabla_W3 = np.zeros(W3.shape)\n",
    "\n",
    "\n",
    "# Weights = {f\"W{i}\": W for i, W in enumerate([W1, W2, W3])}\n",
    "# TODO: del above line"
   ]
  },
  {
   "cell_type": "code",
   "execution_count": 222,
   "metadata": {},
   "outputs": [],
   "source": [
    "predict_probas = np.zeros(\n",
    "    [n_individus]\n",
    ")  # stocke les probas predites par le reseau de neurones\n",
    "\n",
    "\n",
    "mse_hist = []  # store mse values through the epochs\n",
    "time_hist = []  # store time spent for a batch of epochs\n",
    "\n",
    "tic = time()  # in order to measure the time spent for the training"
   ]
  },
  {
   "cell_type": "markdown",
   "metadata": {},
   "source": [
    "### Entrainement de type on-line"
   ]
  },
  {
   "cell_type": "code",
   "execution_count": 90,
   "metadata": {},
   "outputs": [
    {
     "name": "stderr",
     "output_type": "stream",
     "text": [
      "/tmp/ipykernel_71219/2483056821.py:31: DeprecationWarning: Conversion of an array with ndim > 0 to a scalar is deprecated, and will error in future. Ensure you extract a single element from your array before performing this operation. (Deprecated NumPy 1.25.)\n",
      "  nabla_W1[j, k] += a0[k] * delta1[j]\n",
      "/tmp/ipykernel_71219/2483056821.py:36: DeprecationWarning: Conversion of an array with ndim > 0 to a scalar is deprecated, and will error in future. Ensure you extract a single element from your array before performing this operation. (Deprecated NumPy 1.25.)\n",
      "  nabla_W2[j, k] += a1[k] * delta2[j]\n",
      "/tmp/ipykernel_71219/2483056821.py:41: DeprecationWarning: Conversion of an array with ndim > 0 to a scalar is deprecated, and will error in future. Ensure you extract a single element from your array before performing this operation. (Deprecated NumPy 1.25.)\n",
      "  nabla_W3[j, k] += a2[k] * delta3[j]\n",
      "/tmp/ipykernel_71219/2483056821.py:64: DeprecationWarning: Conversion of an array with ndim > 0 to a scalar is deprecated, and will error in future. Ensure you extract a single element from your array before performing this operation. (Deprecated NumPy 1.25.)\n",
      "  print(f\"{ep =}\\nmse = {float(mse)}\\ntemps pour 100 epochs = {temps}\")\n",
      "/tmp/ipykernel_71219/2483056821.py:65: DeprecationWarning: Conversion of an array with ndim > 0 to a scalar is deprecated, and will error in future. Ensure you extract a single element from your array before performing this operation. (Deprecated NumPy 1.25.)\n",
      "  mse_hist.append(float(mse))\n"
     ]
    },
    {
     "name": "stdout",
     "output_type": "stream",
     "text": [
      "ep =100\n",
      "mse = 0.1203849452814399\n",
      "temps pour 100 epochs = 23.92\n",
      "ep =200\n",
      "mse = 0.12001213223968374\n",
      "temps pour 100 epochs = 0.52\n",
      "ep =300\n",
      "mse = 0.1193770023564152\n",
      "temps pour 100 epochs = 0.53\n",
      "ep =400\n",
      "mse = 0.11806128044212459\n",
      "temps pour 100 epochs = 0.7\n",
      "ep =500\n",
      "mse = 0.11492920736389121\n",
      "temps pour 100 epochs = 0.75\n",
      "ep =600\n",
      "mse = 0.10785267452715724\n",
      "temps pour 100 epochs = 0.53\n",
      "ep =700\n",
      "mse = 0.09464904163532413\n",
      "temps pour 100 epochs = 0.47\n",
      "ep =800\n",
      "mse = 0.07589088463542269\n",
      "temps pour 100 epochs = 0.51\n",
      "ep =900\n",
      "mse = 0.057124005566061745\n",
      "temps pour 100 epochs = 0.47\n",
      "ep =1000\n",
      "mse = 0.04182347177235595\n",
      "temps pour 100 epochs = 0.49\n"
     ]
    },
    {
     "name": "stderr",
     "output_type": "stream",
     "text": [
      "/tmp/ipykernel_71219/2483056821.py:44: DeprecationWarning: Conversion of an array with ndim > 0 to a scalar is deprecated, and will error in future. Ensure you extract a single element from your array before performing this operation. (Deprecated NumPy 1.25.)\n",
      "  predict_probas[ind] = a3  # on recupere les probas a la derniere epoch\n"
     ]
    }
   ],
   "source": [
    "# ON LINE\n",
    "for ep in range(1, n_epochs + 1):\n",
    "    mse = 0  # on reinitialise la MSE pour un nouvel entrainement\n",
    "\n",
    "    for ind in range(n_individus):\n",
    "        a0 = X[ind : ind + 1, :].T  # attention, si tu veux modifier, a la shape\n",
    "\n",
    "        z1 = W1 @ a0 + b1\n",
    "        a1 = sigma(z1)\n",
    "\n",
    "        z2 = W2 @ a1 + b2\n",
    "        a2 = sigma(z2)\n",
    "\n",
    "        z3 = W3 @ a2 + b3\n",
    "        a3 = sigma(z3)\n",
    "\n",
    "        mse += ((a3 - y[ind]) ** 2) / n_individus  # a3 is a 1x1 matrix\n",
    "\n",
    "        # backpropagation\n",
    "        delta3 = (a3 - y[ind]) * sigprim(z3)  # un tableau 1x1\n",
    "        delta2 = (W3.T @ delta3) * sigprim(z2)\n",
    "        delta1 = (W2.T @ delta2) * sigprim(z1)\n",
    "\n",
    "        nabla_bias1 = delta1\n",
    "        nabla_bias2 = delta2\n",
    "        nabla_bias3 = delta3\n",
    "\n",
    "        nabla_W1 = np.zeros(W1.shape)\n",
    "        for j in range(W1.shape[0]):\n",
    "            for k in range(W1.shape[1]):\n",
    "                nabla_W1[j, k] += a0[k] * delta1[j]\n",
    "\n",
    "        nabla_W2 = np.zeros(W2.shape)\n",
    "        for j in range(W2.shape[0]):\n",
    "            for k in range(W2.shape[1]):\n",
    "                nabla_W2[j, k] += a1[k] * delta2[j]\n",
    "\n",
    "        nabla_W3 = np.zeros(W3.shape)\n",
    "        for j in range(W3.shape[0]):\n",
    "            for k in range(W3.shape[1]):\n",
    "                nabla_W3[j, k] += a2[k] * delta3[j]\n",
    "\n",
    "        if ep == n_epochs - 1:\n",
    "            predict_probas[ind] = a3  # on recupere les probas a la derniere epoch\n",
    "\n",
    "        # fin de calcul pour une observation\n",
    "\n",
    "        # Mise a jour des biais et poids\n",
    "        b1 -= eta * nabla_bias1\n",
    "        b2 -= eta * nabla_bias2\n",
    "        b3 -= eta * nabla_bias3\n",
    "        W1 -= eta * nabla_W1\n",
    "        W2 -= eta * nabla_W2\n",
    "        W3 -= eta * nabla_W3\n",
    "\n",
    "    # fin de boucle sur les observations, cad fin d'une epoch\n",
    "\n",
    "    # calcul et affichage de l'etat de l'entrainement a la fin de certaines epochs\n",
    "    if ep % 100 == 0:\n",
    "        toc = time()\n",
    "        temps = np.round(toc - tic, 2)\n",
    "        tic = toc\n",
    "\n",
    "        print(f\"{ep =}\\nmse = {float(mse)}\\ntemps pour 100 epochs = {temps}\")\n",
    "        mse_hist.append(float(mse))\n",
    "        time_hist.append(float(temps))"
   ]
  },
  {
   "cell_type": "code",
   "execution_count": 51,
   "metadata": {},
   "outputs": [
    {
     "data": {
      "text/plain": [
       "[<matplotlib.lines.Line2D at 0x7085d63b35c0>]"
      ]
     },
     "execution_count": 51,
     "metadata": {},
     "output_type": "execute_result"
    },
    {
     "data": {
      "image/png": "[encoded data removed]",
      "text/plain": [
       "<Figure size 640x480 with 1 Axes>"
      ]
     },
     "metadata": {},
     "output_type": "display_data"
    }
   ],
   "source": [
    "plt.plot(mse_hist)"
   ]
  },
  {
   "cell_type": "markdown",
   "metadata": {},
   "source": [
    "### Entrainement de type full batch"
   ]
  },
  {
   "cell_type": "markdown",
   "metadata": {},
   "source": [
    "#### Initialisation du reseau de neurones"
   ]
  },
  {
   "cell_type": "code",
   "execution_count": 246,
   "metadata": {},
   "outputs": [],
   "source": [
    "# INITIALISATION\n",
    "\n",
    "n_epochs = 10000\n",
    "n_individus = X.shape[0]\n",
    "eta = 1  # tx d'apprentissage\n",
    "\n",
    "\n",
    "nabla_W1 = np.zeros(W1.shape)  # gradient for the weights\n",
    "\n",
    "\n",
    "nabla_W2 = np.zeros(W2.shape)\n",
    "\n",
    "\n",
    "nabla_W3 = np.zeros(W3.shape)\n",
    "\n",
    "\n",
    "# Weights = {f\"W{i}\": W for i, W in enumerate([W1, W2, W3])}\n",
    "# TODO: del above line"
   ]
  },
  {
   "cell_type": "code",
   "execution_count": 247,
   "metadata": {},
   "outputs": [],
   "source": [
    "predict_probas = np.zeros(\n",
    "    [n_individus]\n",
    ")  # stocke les probas predites par le reseau de neurones\n",
    "\n",
    "\n",
    "mse_hist = []  # store mse values through the epochs\n",
    "time_hist = []  # store time spent for a batch of epochs\n",
    "\n",
    "tic = time()  # in order to measure the time spent for the training"
   ]
  },
  {
   "cell_type": "code",
   "execution_count": 248,
   "metadata": {},
   "outputs": [
    {
     "name": "stderr",
     "output_type": "stream",
     "text": [
      "/tmp/ipykernel_71219/3631655081.py:34: DeprecationWarning: Conversion of an array with ndim > 0 to a scalar is deprecated, and will error in future. Ensure you extract a single element from your array before performing this operation. (Deprecated NumPy 1.25.)\n",
      "  nabla_W1[j, k] += a0[k] * delta1[j]\n",
      "/tmp/ipykernel_71219/3631655081.py:38: DeprecationWarning: Conversion of an array with ndim > 0 to a scalar is deprecated, and will error in future. Ensure you extract a single element from your array before performing this operation. (Deprecated NumPy 1.25.)\n",
      "  nabla_W2[j, k] += a1[k] * delta2[j]\n",
      "/tmp/ipykernel_71219/3631655081.py:42: DeprecationWarning: Conversion of an array with ndim > 0 to a scalar is deprecated, and will error in future. Ensure you extract a single element from your array before performing this operation. (Deprecated NumPy 1.25.)\n",
      "  nabla_W3[j, k] += a2[k] * delta3[j]\n"
     ]
    },
    {
     "name": "stdout",
     "output_type": "stream",
     "text": [
      "ep =100\n",
      "mse = 1.7404733223795343\n",
      "temps pour 100 epochs = 0.72\n",
      "ep =200\n",
      "mse = 1.7299494593737967\n",
      "temps pour 100 epochs = 0.45\n",
      "ep =300\n",
      "mse = 1.7199978723661655\n",
      "temps pour 100 epochs = 0.43\n",
      "ep =400\n",
      "mse = 1.7105548525970415\n",
      "temps pour 100 epochs = 0.5\n",
      "ep =500\n",
      "mse = 1.7015645286642775\n",
      "temps pour 100 epochs = 0.76\n",
      "ep =600\n",
      "mse = 1.6929780892736752\n",
      "temps pour 100 epochs = 0.45\n",
      "ep =700\n",
      "mse = 1.6847529994760506\n",
      "temps pour 100 epochs = 0.48\n",
      "ep =800\n",
      "mse = 1.6768522344598469\n",
      "temps pour 100 epochs = 0.57\n",
      "ep =900\n",
      "mse = 1.6692435429313688\n",
      "temps pour 100 epochs = 0.57\n",
      "ep =1000\n",
      "mse = 1.6618987457894276\n",
      "temps pour 100 epochs = 0.42\n",
      "ep =1100\n",
      "mse = 1.6547930731270475\n",
      "temps pour 100 epochs = 0.46\n",
      "ep =1200\n",
      "mse = 1.64790454223255\n",
      "temps pour 100 epochs = 0.45\n",
      "ep =1300\n",
      "mse = 1.6412133803706066\n",
      "temps pour 100 epochs = 0.41\n",
      "ep =1400\n",
      "mse = 1.6347014981503358\n",
      "temps pour 100 epochs = 0.4\n",
      "ep =1500\n",
      "mse = 1.6283520218229672\n",
      "temps pour 100 epochs = 0.4\n",
      "ep =1600\n",
      "mse = 1.6221488955387633\n",
      "temps pour 100 epochs = 0.4\n",
      "ep =1700\n",
      "mse = 1.616076567101398\n",
      "temps pour 100 epochs = 0.4\n",
      "ep =1800\n",
      "mse = 1.6101197728129648\n",
      "temps pour 100 epochs = 0.4\n",
      "ep =1900\n",
      "mse = 1.6042634384093313\n",
      "temps pour 100 epochs = 0.4\n",
      "ep =2000\n",
      "mse = 1.5984927136548432\n",
      "temps pour 100 epochs = 0.4\n",
      "ep =2100\n",
      "mse = 1.5927931574445375\n",
      "temps pour 100 epochs = 0.4\n",
      "ep =2200\n",
      "mse = 1.5871510870566374\n",
      "temps pour 100 epochs = 0.41\n",
      "ep =2300\n",
      "mse = 1.5815540970601647\n",
      "temps pour 100 epochs = 0.4\n",
      "ep =2400\n",
      "mse = 1.5759917364911995\n",
      "temps pour 100 epochs = 0.4\n",
      "ep =2500\n",
      "mse = 1.5704563030177614\n",
      "temps pour 100 epochs = 0.4\n",
      "ep =2600\n",
      "mse = 1.564943667967375\n",
      "temps pour 100 epochs = 0.41\n",
      "ep =2700\n",
      "mse = 1.559453991321274\n",
      "temps pour 100 epochs = 0.41\n",
      "ep =2800\n",
      "mse = 1.553992138124414\n",
      "temps pour 100 epochs = 0.41\n",
      "ep =2900\n",
      "mse = 1.5485675970579669\n",
      "temps pour 100 epochs = 0.41\n",
      "ep =3000\n",
      "mse = 1.5431937607737078\n",
      "temps pour 100 epochs = 0.4\n",
      "ep =3100\n",
      "mse = 1.537886568236289\n",
      "temps pour 100 epochs = 0.4\n",
      "ep =3200\n",
      "mse = 1.5326626988882375\n",
      "temps pour 100 epochs = 0.41\n",
      "ep =3300\n",
      "mse = 1.5275376679679395\n",
      "temps pour 100 epochs = 0.41\n",
      "ep =3400\n",
      "mse = 1.522524216624316\n",
      "temps pour 100 epochs = 0.41\n",
      "ep =3500\n",
      "mse = 1.5176312884186252\n",
      "temps pour 100 epochs = 0.4\n",
      "ep =3600\n",
      "mse = 1.512863686254624\n",
      "temps pour 100 epochs = 0.42\n",
      "ep =3700\n",
      "mse = 1.5082223090900189\n",
      "temps pour 100 epochs = 0.4\n",
      "ep =3800\n",
      "mse = 1.503704754833091\n",
      "temps pour 100 epochs = 0.4\n",
      "ep =3900\n",
      "mse = 1.4993060631541912\n",
      "temps pour 100 epochs = 0.4\n",
      "ep =4000\n",
      "mse = 1.4950194272767048\n",
      "temps pour 100 epochs = 0.4\n",
      "ep =4100\n",
      "mse = 1.4908367802353817\n",
      "temps pour 100 epochs = 0.41\n",
      "ep =4200\n",
      "mse = 1.486749225329512\n",
      "temps pour 100 epochs = 0.41\n",
      "ep =4300\n",
      "mse = 1.4827473202900228\n",
      "temps pour 100 epochs = 0.41\n",
      "ep =4400\n",
      "mse = 1.4788212422883353\n",
      "temps pour 100 epochs = 0.4\n",
      "ep =4500\n",
      "mse = 1.4749608640511687\n",
      "temps pour 100 epochs = 0.4\n",
      "ep =4600\n",
      "mse = 1.4711557673312259\n",
      "temps pour 100 epochs = 0.43\n",
      "ep =4700\n",
      "mse = 1.4673952136676511\n",
      "temps pour 100 epochs = 0.44\n",
      "ep =4800\n",
      "mse = 1.4636680862133058\n",
      "temps pour 100 epochs = 0.69\n",
      "ep =4900\n",
      "mse = 1.4599628112740233\n",
      "temps pour 100 epochs = 0.56\n",
      "ep =5000\n",
      "mse = 1.456267264122109\n",
      "temps pour 100 epochs = 0.5\n",
      "ep =5100\n",
      "mse = 1.452568660293034\n",
      "temps pour 100 epochs = 0.46\n",
      "ep =5200\n",
      "mse = 1.4488534305538312\n",
      "temps pour 100 epochs = 0.55\n",
      "ep =5300\n",
      "mse = 1.4451070746871846\n",
      "temps pour 100 epochs = 0.45\n",
      "ep =5400\n",
      "mse = 1.4413139858787576\n",
      "temps pour 100 epochs = 0.5\n",
      "ep =5500\n",
      "mse = 1.437457233587644\n",
      "temps pour 100 epochs = 0.48\n",
      "ep =5600\n",
      "mse = 1.4335182880710156\n",
      "temps pour 100 epochs = 0.48\n",
      "ep =5700\n",
      "mse = 1.4294766638686751\n",
      "temps pour 100 epochs = 0.46\n",
      "ep =5800\n",
      "mse = 1.4253094519441274\n",
      "temps pour 100 epochs = 0.45\n",
      "ep =5900\n",
      "mse = 1.4209906998509712\n",
      "temps pour 100 epochs = 0.41\n",
      "ep =6000\n",
      "mse = 1.4164905847024423\n",
      "temps pour 100 epochs = 0.42\n",
      "ep =6100\n",
      "mse = 1.4117743025442957\n",
      "temps pour 100 epochs = 0.42\n",
      "ep =6200\n",
      "mse = 1.406800566638377\n",
      "temps pour 100 epochs = 0.43\n",
      "ep =6300\n",
      "mse = 1.4015195616688991\n",
      "temps pour 100 epochs = 0.43\n",
      "ep =6400\n",
      "mse = 1.395870135622508\n",
      "temps pour 100 epochs = 0.43\n",
      "ep =6500\n",
      "mse = 1.3897759217317454\n",
      "temps pour 100 epochs = 0.49\n",
      "ep =6600\n",
      "mse = 1.3831399730711584\n",
      "temps pour 100 epochs = 0.5\n",
      "ep =6700\n",
      "mse = 1.3758373952532268\n",
      "temps pour 100 epochs = 0.48\n",
      "ep =6800\n",
      "mse = 1.367705500487006\n",
      "temps pour 100 epochs = 0.49\n",
      "ep =6900\n",
      "mse = 1.3585315413490815\n",
      "temps pour 100 epochs = 0.43\n",
      "ep =7000\n",
      "mse = 1.348040035459051\n",
      "temps pour 100 epochs = 0.45\n",
      "ep =7100\n",
      "mse = 1.335886920926947\n",
      "temps pour 100 epochs = 0.44\n",
      "ep =7200\n",
      "mse = 1.321678101497314\n",
      "temps pour 100 epochs = 0.42\n",
      "ep =7300\n",
      "mse = 1.3050390601606854\n",
      "temps pour 100 epochs = 0.59\n",
      "ep =7400\n",
      "mse = 1.2857349174416812\n",
      "temps pour 100 epochs = 0.46\n",
      "ep =7500\n",
      "mse = 1.2637281854673292\n",
      "temps pour 100 epochs = 0.46\n",
      "ep =7600\n",
      "mse = 1.2389813872356024\n",
      "temps pour 100 epochs = 0.45\n",
      "ep =7700\n",
      "mse = 1.2110530342197632\n",
      "temps pour 100 epochs = 0.43\n",
      "ep =7800\n",
      "mse = 1.17881772226479\n",
      "temps pour 100 epochs = 0.47\n",
      "ep =7900\n",
      "mse = 1.1404212437765529\n",
      "temps pour 100 epochs = 0.42\n",
      "ep =8000\n",
      "mse = 1.0934245367417903\n",
      "temps pour 100 epochs = 0.42\n",
      "ep =8100\n",
      "mse = 1.0354922986455155\n",
      "temps pour 100 epochs = 0.41\n",
      "ep =8200\n",
      "mse = 0.966168910324902\n",
      "temps pour 100 epochs = 0.41\n",
      "ep =8300\n",
      "mse = 0.8889021853735722\n",
      "temps pour 100 epochs = 0.41\n",
      "ep =8400\n",
      "mse = 0.8099681895269193\n",
      "temps pour 100 epochs = 0.41\n",
      "ep =8500\n",
      "mse = 0.7347104477229399\n",
      "temps pour 100 epochs = 0.59\n",
      "ep =8600\n",
      "mse = 0.6661036604101843\n",
      "temps pour 100 epochs = 0.76\n",
      "ep =8700\n",
      "mse = 0.6051687015010625\n",
      "temps pour 100 epochs = 0.46\n",
      "ep =8800\n",
      "mse = 0.5517667835082147\n",
      "temps pour 100 epochs = 0.48\n",
      "ep =8900\n",
      "mse = 0.5052185591122136\n",
      "temps pour 100 epochs = 0.56\n",
      "ep =9000\n",
      "mse = 0.4646176913836988\n",
      "temps pour 100 epochs = 0.49\n",
      "ep =9100\n",
      "mse = 0.429005876918547\n",
      "temps pour 100 epochs = 0.43\n",
      "ep =9200\n",
      "mse = 0.3975186965307709\n",
      "temps pour 100 epochs = 0.59\n",
      "ep =9300\n",
      "mse = 0.36946117198885114\n",
      "temps pour 100 epochs = 0.43\n",
      "ep =9400\n",
      "mse = 0.34430283943962203\n",
      "temps pour 100 epochs = 0.52\n",
      "ep =9500\n",
      "mse = 0.321639230822703\n",
      "temps pour 100 epochs = 0.45\n",
      "ep =9600\n",
      "mse = 0.30115351289979947\n",
      "temps pour 100 epochs = 0.42\n",
      "ep =9700\n",
      "mse = 0.2825884449188479\n",
      "temps pour 100 epochs = 0.4\n",
      "ep =9800\n",
      "mse = 0.2657282820942429\n",
      "temps pour 100 epochs = 0.44\n",
      "ep =9900\n",
      "mse = 0.25038768212893703\n",
      "temps pour 100 epochs = 0.43\n",
      "ep =10000\n",
      "mse = 0.2364049210401862\n",
      "temps pour 100 epochs = 0.43\n"
     ]
    },
    {
     "name": "stderr",
     "output_type": "stream",
     "text": [
      "/tmp/ipykernel_71219/3631655081.py:45: DeprecationWarning: Conversion of an array with ndim > 0 to a scalar is deprecated, and will error in future. Ensure you extract a single element from your array before performing this operation. (Deprecated NumPy 1.25.)\n",
      "  predict_probas[ind] = a3  # on recupere les probas a la derniere epoch\n"
     ]
    }
   ],
   "source": [
    "# FULL BATCH\n",
    "for ep in range(1, n_epochs + 1):\n",
    "    mse = 0  # on reinitialise la MSE pour un nouvel entrainement\n",
    "\n",
    "    nabla_W1 = np.zeros(W1.shape)\n",
    "    nabla_W2 = np.zeros(W2.shape)\n",
    "    nabla_W3 = np.zeros(W3.shape)\n",
    "\n",
    "    for ind in range(n_individus):\n",
    "        a0 = X[ind : ind + 1, :].T\n",
    "\n",
    "        z1 = W1 @ a0 + b1\n",
    "        a1 = sigma(z1)\n",
    "\n",
    "        z2 = W2 @ a1 + b2\n",
    "        a2 = sigma(z2)\n",
    "\n",
    "        z3 = W3 @ a2 + b3\n",
    "        a3 = sigma(z3)\n",
    "\n",
    "        mse += ((a3[0, 0] - y[ind]) ** 2)\n",
    "\n",
    "        # backpropagation\n",
    "        delta3 = (a3 - y[ind]) * sigprim(z3)  # un tableau 1x1\n",
    "        delta2 = (W3.T @ delta3) * sigprim(z2)\n",
    "        delta1 = (W2.T @ delta2) * sigprim(z1)\n",
    "\n",
    "        nabla_bias1 = delta1\n",
    "        nabla_bias2 = delta2\n",
    "        nabla_bias3 = delta3\n",
    "\n",
    "        for j in range(W1.shape[0]):\n",
    "            for k in range(W1.shape[1]):\n",
    "                nabla_W1[j, k] += a0[k] * delta1[j]\n",
    "\n",
    "        for j in range(W2.shape[0]):\n",
    "            for k in range(W2.shape[1]):\n",
    "                nabla_W2[j, k] += a1[k] * delta2[j]\n",
    "\n",
    "        for j in range(W3.shape[0]):\n",
    "            for k in range(W3.shape[1]):\n",
    "                nabla_W3[j, k] += a2[k] * delta3[j]\n",
    "\n",
    "        if ep == n_epochs - 1:\n",
    "            predict_probas[ind] = a3  # on recupere les probas a la derniere epoch\n",
    "\n",
    "        # fin de calcul pour une observation\n",
    "\n",
    "    # fin de boucle sur les observations, cad fin d'une epoch\n",
    "\n",
    "    # Mise a jour des biais et poids\n",
    "    b1 -= eta * nabla_bias1 / n_individus\n",
    "    b2 -= eta * nabla_bias2 / n_individus\n",
    "    b3 -= eta * nabla_bias3 / n_individus\n",
    "    W1 -= eta * nabla_W1 / n_individus\n",
    "    W2 -= eta * nabla_W2 / n_individus\n",
    "    W3 -= eta * nabla_W3 / n_individus\n",
    "\n",
    "    # calcul et affichage de l'etat de l'entrainement a la fin de certaines epochs\n",
    "    if ep % 100 == 0:\n",
    "        toc = time()\n",
    "        temps = np.round(toc - tic, 2)\n",
    "        tic = toc\n",
    "\n",
    "        print(f\"{ep =}\\nmse = {float(mse)}\\ntemps pour 100 epochs = {temps}\")\n",
    "        mse_hist.append(float(mse))\n",
    "        time_hist.append(float(temps))"
   ]
  },
  {
   "cell_type": "markdown",
   "metadata": {},
   "source": [
    "### Affichage de l'evolution de l'entrainement"
   ]
  },
  {
   "cell_type": "code",
   "execution_count": 249,
   "metadata": {},
   "outputs": [
    {
     "data": {
      "text/plain": [
       "[<matplotlib.lines.Line2D at 0x7085d2255c40>]"
      ]
     },
     "execution_count": 249,
     "metadata": {},
     "output_type": "execute_result"
    },
    {
     "data": {
      "image/png": "[encoded data removed]",
      "text/plain": [
       "<Figure size 640x480 with 1 Axes>"
      ]
     },
     "metadata": {},
     "output_type": "display_data"
    }
   ],
   "source": [
    "plt.plot(mse_hist)"
   ]
  },
  {
   "cell_type": "code",
   "execution_count": 250,
   "metadata": {},
   "outputs": [
    {
     "data": {
      "text/plain": [
       "[<matplotlib.lines.Line2D at 0x7085d22b43b0>]"
      ]
     },
     "execution_count": 250,
     "metadata": {},
     "output_type": "execute_result"
    },
    {
     "data": {
      "image/png": "[encoded data removed]",
      "text/plain": [
       "<Figure size 640x480 with 1 Axes>"
      ]
     },
     "metadata": {},
     "output_type": "display_data"
    }
   ],
   "source": [
    "plt.plot(time_hist)"
   ]
  },
  {
   "cell_type": "markdown",
   "metadata": {},
   "source": [
    "### Prediction des classes"
   ]
  },
  {
   "cell_type": "code",
   "execution_count": 251,
   "metadata": {},
   "outputs": [],
   "source": [
    "y_pred = [True if proba > 0.5 else False for proba in predict_probas]\n",
    "y_true_pred = [\n",
    "    True if predicted_value == true_value else False\n",
    "    for predicted_value, true_value in zip(y_pred, y)\n",
    "]"
   ]
  },
  {
   "cell_type": "code",
   "execution_count": 252,
   "metadata": {},
   "outputs": [
    {
     "data": {
      "text/plain": [
       "<matplotlib.collections.PathCollection at 0x7085d211bb90>"
      ]
     },
     "execution_count": 252,
     "metadata": {},
     "output_type": "execute_result"
    },
    {
     "data": {
      "image/png": "[encoded data removed]",
      "text/plain": [
       "<Figure size 640x480 with 1 Axes>"
      ]
     },
     "metadata": {},
     "output_type": "display_data"
    }
   ],
   "source": [
    "plt.scatter(X[:, 0], X[:, 1], c=y_pred, cmap=\"copper\", s=50)\n",
    "plt.scatter(X[:, 0], X[:, 1], c=y, s=10)"
   ]
  },
  {
   "cell_type": "code",
   "execution_count": 253,
   "metadata": {},
   "outputs": [
    {
     "data": {
      "text/plain": [
       "<matplotlib.collections.PathCollection at 0x7085d2441280>"
      ]
     },
     "execution_count": 253,
     "metadata": {},
     "output_type": "execute_result"
    },
    {
     "data": {
      "image/png": "[encoded data removed]",
      "text/plain": [
       "<Figure size 640x480 with 1 Axes>"
      ]
     },
     "metadata": {},
     "output_type": "display_data"
    }
   ],
   "source": [
    "plt.scatter(X[:, 0], X[:, 1], c=y_true_pred, cmap=\"copper\", s=50)"
   ]
  },
  {
   "cell_type": "code",
   "execution_count": 254,
   "metadata": {},
   "outputs": [
    {
     "data": {
      "text/plain": [
       "[True,\n",
       " True,\n",
       " True,\n",
       " True,\n",
       " True,\n",
       " True,\n",
       " True,\n",
       " True,\n",
       " True,\n",
       " True,\n",
       " True,\n",
       " True,\n",
       " True,\n",
       " True,\n",
       " True,\n",
       " True,\n",
       " True,\n",
       " True,\n",
       " True,\n",
       " True]"
      ]
     },
     "execution_count": 254,
     "metadata": {},
     "output_type": "execute_result"
    }
   ],
   "source": [
    "y_true_pred"
   ]
  },
  {
   "cell_type": "code",
   "execution_count": null,
   "metadata": {},
   "outputs": [],
   "source": []
  }
 ],
 "metadata": {
  "kernelspec": {
   "display_name": "Python 3 (ipykernel)",
   "language": "python",
   "name": "python3"
  },
  "language_info": {
   "codemirror_mode": {
    "name": "ipython",
    "version": 3
   },
   "file_extension": ".py",
   "mimetype": "text/x-python",
   "name": "python",
   "nbconvert_exporter": "python",
   "pygments_lexer": "ipython3",
   "version": "3.12.3"
  }
 },
 "nbformat": 4,
 "nbformat_minor": 4
}
